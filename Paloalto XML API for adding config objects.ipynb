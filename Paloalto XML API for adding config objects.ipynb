{
 "cells": [
  {
   "cell_type": "code",
   "execution_count": null,
   "metadata": {
    "collapsed": true
   },
   "outputs": [],
   "source": [
    "### Get API Key\n",
    "\n",
    "import requests\n",
    "from StringIO import StringIO\n",
    "from lxml import etree\n",
    "\n",
    "panorama = \"panorama.foo.ltd\"\n",
    "url = \"https://%s/api/\" % panorama\n",
    "username = \"admin\"\n",
    "password = \"Password1\"\n",
    "\n",
    "querystring = {\"type\":\"keygen\",\"user\":username,\"password\":password}\n",
    "\n",
    "headers = {\n",
    "    'cache-control': \"no-cache\",\n",
    "    }\n",
    "\n",
    "#### Submit http GET request to panorama with the given params, disable cert verification \n",
    "\n",
    "response = requests.request(\"GET\", url, headers=headers, params=querystring, verify=False)\n",
    "\n",
    "#### Normal response is an XML string, code below processes XML to extract key using xpath\n",
    "#### XML format for response is:\n",
    "#### <response status = 'success'>\n",
    "####   <result>\n",
    "####      <key>QWEERTYUI12345abcdefg=</key>\n",
    "####    </result>\n",
    "#### </response>\n",
    "\n",
    "tree = etree.parse(StringIO(response.text))\n",
    "key = tree.xpath(\"/response/result/key\")[0].text\n"
   ]
  },
  {
   "cell_type": "code",
   "execution_count": null,
   "metadata": {
    "collapsed": true
   },
   "outputs": [],
   "source": [
    "### Get entire panorama XML config file\n",
    "\n",
    "import requests\n",
    "from StringIO import StringIO\n",
    "from lxml import etree\n",
    "\n",
    "querystring = {\n",
    "    \"type\"    : \"config\",\n",
    "    \"action\"  : \"show\",\n",
    "    \"key\"     : key\n",
    "}\n",
    "\n",
    "headers = {\n",
    "    'cache-control': \"no-cache\",\n",
    "    }\n",
    "\n",
    "response = requests.request(\"GET\", url, headers=headers, params=querystring, verify=False)\n",
    "tree = etree.parse(StringIO(response.text))\n",
    "root = tree.getroot()\n",
    "\n",
    "print(response.text)"
   ]
  },
  {
   "cell_type": "code",
   "execution_count": null,
   "metadata": {
    "collapsed": true
   },
   "outputs": [],
   "source": [
    "#### To get a config object's xpath, specify a unique config object name and assign to addr_name object below\n",
    "#### Xpath path //entry will search all entry objects in the XML DOM, with the modifier @name specifying unique \n",
    "#### for this element. Ideally this xpath should only return one object if the name is indeed unique.\n",
    "#### The etree getpath function returns the absolute xpath path for the object that can be used for subsequent\n",
    "#### API calls\n",
    "\n",
    "addr_name = \"Some Unique address object name\"\n",
    "find_xpath = \"//entry[@name='%s']\" % addr_name\n",
    "obj = root.xpath(find_xpath)\n",
    "xpath = tree.getpath(obj[0])\n",
    "print xpath\n",
    "\n",
    "#### Sample output: /response/result/config/devices/entry/device-group/entry[5]/address/entry[14]"
   ]
  },
  {
   "cell_type": "code",
   "execution_count": null,
   "metadata": {
    "collapsed": true
   },
   "outputs": [],
   "source": [
    "#### Function below is to encapsulate the API call to add an address object\n",
    "#### with the given path and element fields\n",
    "#### An args_list argument can be passed to iterate over a templated style \n",
    "#### element parameter as shown below\n",
    "\n",
    "\n",
    "def add_address_objects(url, key, path, headers, element, args_list=[]):\n",
    "    querystring = {\n",
    "        \"key\"      : key,\n",
    "        \"type\"     : \"config\",\n",
    "        \"action\"   : \"set\",\n",
    "        \"xpath\"    : path,\n",
    "        \"element\"  : element\n",
    "    }\n",
    "    \n",
    "    if args_list:\n",
    "        for args in args_list:\n",
    "            querystring[\"element\"] = element % args\n",
    "            response = requests.request(\"GET\", url, headers=headers, params=querystring, verify=False)\n",
    "    else:\n",
    "        response = requests.request(\"GET\", url, headers=headers, params=querystring, verify=False)\n",
    "\n",
    "element_tmp = \"\"\"\n",
    "<entry name=\"%s\">\n",
    "<ip-netmask>192.168.200.%s</ip-netmask>\n",
    "<tag>\n",
    "<member>Foo</member>\n",
    "</tag>\n",
    "<description>%s</description>\n",
    "</entry>\n",
    "\"\"\"\n",
    "\n",
    "#### The args_list is shown below as a manually created list of fixed-length tuples\n",
    "#### The args list can also be created dynammically, it all depends on your needs and creativity!\n",
    "\n",
    "args_list = [\n",
    "    (\"Foo_Address_1\", \"1\", \"Foo_Address_1\"),\n",
    "    (\"Foo_Address_2\", \"2\", \"Foo_Address_2\"),    \n",
    "    (\"Foo_Address_3\", \"3\", \"Foo_Address_3\"),\n",
    "    (\"Foo_Address_30\", \"30\", \"Foo_Address_30\")    \n",
    "]\n",
    "\n",
    "#### Finally the function call to loop over the templated element field with the given args list and send \n",
    "#### resulting API call to panorama\n",
    "\n",
    "add_address_objects(url=url, key=key, path=path, headers=headers, element=element_tmp, args_list=args_list)"
   ]
  }
 ],
 "metadata": {
  "kernelspec": {
   "display_name": "Python 2",
   "language": "python",
   "name": "python2"
  },
  "language_info": {
   "codemirror_mode": {
    "name": "ipython",
    "version": 2
   },
   "file_extension": ".py",
   "mimetype": "text/x-python",
   "name": "python",
   "nbconvert_exporter": "python",
   "pygments_lexer": "ipython2",
   "version": "2.7.5"
  }
 },
 "nbformat": 4,
 "nbformat_minor": 0
}
